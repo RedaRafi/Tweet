{
 "cells": [
  {
   "cell_type": "markdown",
   "metadata": {},
   "source": [
    "## Importation des librairie necessaire "
   ]
  },
  {
   "cell_type": "code",
   "execution_count": 5,
   "metadata": {},
   "outputs": [
    {
     "name": "stderr",
     "output_type": "stream",
     "text": [
      "[nltk_data] Error loading wordnet: <urlopen error [Errno 11001]\n",
      "[nltk_data]     getaddrinfo failed>\n"
     ]
    },
    {
     "data": {
      "text/plain": [
       "False"
      ]
     },
     "execution_count": 5,
     "metadata": {},
     "output_type": "execute_result"
    }
   ],
   "source": [
    "import tweepy\n",
    "import pandas as pd\n",
    "import numpy as np\n",
    "import matplotlib.pyplot as plt\n",
    "from PIL import Image\n",
    "from wordcloud import WordCloud\n",
    "import nltk\n",
    "nltk.download('wordnet')"
   ]
  },
  {
   "cell_type": "code",
   "execution_count": null,
   "metadata": {},
   "outputs": [],
   "source": [
    "import gensim\n",
    "from nltk.corpus import stopwords\n",
    "from nltk.stem import WordNetLemmatizer, SnowballStemmer, PorterStemmer\n",
    "from gensim.utils import simple_preprocess\n",
    "from gensim.parsing.preprocessing import STOPWORDS\n",
    "from nltk.stem.porter import *\n",
    "\n",
    "\n",
    "\n",
    "import nltk\n",
    "nltk.download('wordnet')"
   ]
  },
  {
   "cell_type": "code",
   "execution_count": 2,
   "metadata": {},
   "outputs": [],
   "source": [
    "import string\n",
    "import re\n",
    "import preprocessor as p"
   ]
  },
  {
   "cell_type": "code",
   "execution_count": null,
   "metadata": {},
   "outputs": [],
   "source": [
    "from textblob import TextBlob\n",
    "from autocorrect import Speller\n",
    "spell = Speller(lang='en')"
   ]
  },
  {
   "cell_type": "markdown",
   "metadata": {},
   "source": [
    "## Appel API Tweeter"
   ]
  },
  {
   "cell_type": "code",
   "execution_count": 6,
   "metadata": {},
   "outputs": [],
   "source": [
    "consumer_key = \"7pCD57SzqGFbqK8nqiIKd9SJt\"\n",
    "consumer_secret = \"iLcEVx0ofKDrt4Ad6c2njs5Nss9qIpOy9pq3Dsqulrni7unCeR\"\n",
    "access_token = \"1294709482577186816-5SgNrO2uNuuoujldgAxvipd8klVdw4\"\n",
    "access_token_secret = \"WYIWgtbdqGhABgOsmMdfSQQwltAT6Zzu9OlXMnVhIlCmG\"\n",
    "\n",
    "auth = tweepy.OAuthHandler(consumer_key, consumer_secret)\n",
    "auth.set_access_token(access_token, access_token_secret)\n",
    "api = tweepy.API(auth,wait_on_rate_limit=True)\n"
   ]
  },
  {
   "cell_type": "markdown",
   "metadata": {},
   "source": [
    "## Outil de Cleaning  \"Stop_word,ponctuation,Emogi_pack"
   ]
  },
  {
   "cell_type": "code",
   "execution_count": 7,
   "metadata": {
    "scrolled": false
   },
   "outputs": [
    {
     "ename": "NameError",
     "evalue": "name 'stopwords' is not defined",
     "output_type": "error",
     "traceback": [
      "\u001b[1;31m---------------------------------------------------------------------------\u001b[0m",
      "\u001b[1;31mNameError\u001b[0m                                 Traceback (most recent call last)",
      "\u001b[1;32m<ipython-input-7-9157f80c9621>\u001b[0m in \u001b[0;36m<module>\u001b[1;34m\u001b[0m\n\u001b[0;32m      1\u001b[0m \u001b[0msp\u001b[0m \u001b[1;33m=\u001b[0m \u001b[0mstring\u001b[0m\u001b[1;33m.\u001b[0m\u001b[0mpunctuation\u001b[0m\u001b[1;33m\u001b[0m\u001b[1;33m\u001b[0m\u001b[0m\n\u001b[1;32m----> 2\u001b[1;33m \u001b[0mstop_words\u001b[0m \u001b[1;33m=\u001b[0m \u001b[0mstopwords\u001b[0m\u001b[1;33m.\u001b[0m\u001b[0mwords\u001b[0m\u001b[1;33m(\u001b[0m\u001b[1;34m'english'\u001b[0m\u001b[1;33m)\u001b[0m\u001b[1;33m\u001b[0m\u001b[1;33m\u001b[0m\u001b[0m\n\u001b[0m\u001b[0;32m      3\u001b[0m \u001b[1;31m# stop_words\u001b[0m\u001b[1;33m\u001b[0m\u001b[1;33m\u001b[0m\u001b[1;33m\u001b[0m\u001b[0m\n",
      "\u001b[1;31mNameError\u001b[0m: name 'stopwords' is not defined"
     ]
    }
   ],
   "source": [
    "sp = string.punctuation\n",
    "stop_words = stopwords.words('english')\n",
    "# stop_words"
   ]
  },
  {
   "cell_type": "code",
   "execution_count": null,
   "metadata": {},
   "outputs": [],
   "source": [
    "# from https://pypi.org/project/demoji/\n",
    "demoji_df = pd.read_json(r\"C:\\Users\\reda_\\OneDrive - Université Cadi Ayyad Marrakech\\Student\\MSID\\S3_2021\\Text Minning\\Tweet\\demoji.json\", encoding='utf-8') \n",
    "demoji_df.reset_index(inplace=True)\n",
    "# demoji_df.astype({\"index\": str})\n",
    "# demoji_df"
   ]
  },
  {
   "cell_type": "markdown",
   "metadata": {},
   "source": [
    "## Tweepy cursor"
   ]
  },
  {
   "cell_type": "code",
   "execution_count": null,
   "metadata": {},
   "outputs": [],
   "source": [
    "tweets = tweepy.Cursor(api.search,geocode=\"31.632791,-7.988639,500km\", since=\"2019-01-01\",lang = 'en').items(100)\n",
    "list_tweets = [[t.created_at, t.user.name, t.user.screen_name, t.text, t.favorite_count, t.retweet_count] for t in tweets]"
   ]
  },
  {
   "cell_type": "code",
   "execution_count": null,
   "metadata": {},
   "outputs": [],
   "source": [
    "df_tweets = pd.DataFrame(list_tweets,columns=['date time', 'name', 'username', 'text', 'nbr likes', 'nbr retweet' ])\n",
    "df_tweets.head(20)"
   ]
  },
  {
   "cell_type": "code",
   "execution_count": null,
   "metadata": {},
   "outputs": [],
   "source": [
    "df_tweets.to_csv('dataExtra.csv', index = False)"
   ]
  },
  {
   "cell_type": "code",
   "execution_count": null,
   "metadata": {},
   "outputs": [],
   "source": []
  },
  {
   "cell_type": "code",
   "execution_count": null,
   "metadata": {},
   "outputs": [],
   "source": [
    "list_tweets = df_tweets['text']\n",
    "df1 = pd.DataFrame(list_tweets)\n",
    "# list_tweets"
   ]
  },
  {
   "cell_type": "code",
   "execution_count": null,
   "metadata": {},
   "outputs": [],
   "source": [
    "## Tokenize Steming Delete unnecessary data"
   ]
  },
  {
   "cell_type": "code",
   "execution_count": null,
   "metadata": {},
   "outputs": [],
   "source": [
    "stemmer = PorterStemmer()\n",
    "lmtzr = WordNetLemmatizer()\n",
    "def lemmatize_stemming(text):\n",
    "    return stemmer.stem(lmtzr.lemmatize(text, pos='v'))\n",
    "\n",
    "def tokenize_lemmatize_stemming(text):\n",
    "    text = re.sub(r'[^\\w\\s]','',text)\n",
    "    #replace multiple spaces with one space\n",
    "    text = re.sub(r'[\\s]+',' ',text)\n",
    "    #transfer text to lowercase\n",
    "    text = text.lower() \n",
    "    # tokenaze text\n",
    "    tokens = re.split(\" \", text)\n",
    "\n",
    "    # Remove stop words \n",
    "    result = []\n",
    "    for token in tokens :\n",
    "        if token not in gensim.parsing.preprocessing.STOPWORDS and len(token) > 1:\n",
    "            result.append(lemmatize_stemming(token))\n",
    "\n",
    "    return result\n",
    "def delete_unnecessary_data (TweetList):\n",
    "    for i in range(clean_tweets.size):\n",
    "        clean_tweets[i] = p.clean(clean_tweets[i])\n",
    "        clean_tweets[i] = re.sub(\"[\"+sp+\"]\",\"\",clean_tweets[i])\n",
    "         # delete duplicate characters\n",
    "        clean_tweets[i] = re.sub(r\"(.)\\1{2,}\", r\"\\1\\1\",  clean_tweets[i])\n",
    "   \n",
    "    #reamove_punctuation\n",
    "        clean_tweets[i] = re.sub('[^\\w\\s\\']',' ', clean_tweets[i])\n",
    "#         for code in demoji_df[\"index\"]:\n",
    "#             try:\n",
    "#                 clean_tweets[i] = re.sub(code,'',  clean_tweets[i])\n",
    "#             except:\n",
    "#                 pass\n",
    "        \n",
    "        clean_tweets[i] = re.sub('((www\\.[^\\s]+)|(https?://[^\\s]+))','', clean_tweets[i])\n",
    "        clean_tweets[i] = re.sub(' @[^\\s]+',' ',clean_tweets[i])\n",
    "        clean_tweets[i] = re.sub('[^\\s@]+@[^\\s@]+',' ',clean_tweets[i])\n",
    "        clean_tweets[i]  = re.sub(\"[0-9><,]+\",\" \", clean_tweets[i])\n",
    "        clean_tweets[i]  = re.sub(r\"\\n+|┊\",\" \", clean_tweets[i])\n",
    "        clean_tweets[i] = re.sub(r\"(.)\\1{2,}\", r\"\\1\\1\", clean_tweets[i])\n",
    "        clean_tweets[i] = re.sub(r'😂|🤷‍♀️|❤️|🔴|📢|✅|❎|🥘|↘️|🌻|♥️️|️🥵|🆚|📅|🕗|📍|👋|😩|😢|🙌🏾|🔥|😮|💖|😭|👄|❤|🤢|💥|💣','',clean_tweets[i])\n",
    "        clean_tweets[i] = re.sub('[\\s]+', ' ', clean_tweets[i])\n",
    "\n",
    "        clean_tweets[i] = re.sub('[^\\w\\s\\']',' ',clean_tweets[i])\n",
    "\n",
    "        \n",
    "        clean_tweets[i] = clean_tweets[i].lower()\n",
    "        clean_tweets[i] = re.sub(\"\\'s \", \" is\", clean_tweets[i]) \n",
    "\n",
    "#         clean_tweets[i] = re.sub(r\" whats \", \" what is \", clean_tweets[i], flags=re.IGNORECASE)\n",
    "#         clean_tweets[i] = re.sub(\"\\'ve\", \" have \", clean_tweets[i])\n",
    "#         clean_tweets[i] = re.sub(\"n\\'t\", \" not \", clean_tweets[i])\n",
    "#         clean_tweets[i] = re.sub(\"i'm\", \"i am\", clean_tweets[i], flags=re.IGNORECASE)\n",
    "#         clean_tweets[i] = re.sub(\"\\'re\", \" are \", clean_tweets[i])\n",
    "#         clean_tweets[i] = re.sub(\"\\'d\", \" would \", clean_tweets[i])\n",
    "#         clean_tweets[i] = re.sub(\"\\'ll\", \" will \", clean_tweets[i])\n",
    "#         clean_tweets[i] = re.sub(\"e-mail\", \" email \", clean_tweets[i], flags=re.IGNORECASE)\n",
    "#         clean_tweets[i] = re.sub(\"\\(s\\)\", \" \", clean_tweets[i], flags=re.IGNORECASE) #mester(s)\n",
    "#         clean_tweets[i] = re.sub(r\" (the[\\s]+|The[\\s]+)?(us(a)?|u\\.s\\.(a\\.)?|united state(s)?) \", \" america \", clean_tweets[i])\n",
    "#         clean_tweets[i] = re.sub(r\" uk \", \" england \", clean_tweets[i], flags=re.IGNORECASE)\n",
    "#         clean_tweets[i] = re.sub(r\" imrovement \", \" improvement \", clean_tweets[i], flags=re.IGNORECASE)\n",
    "#         clean_tweets[i] = re.sub(r\" intially \", \" initially \", clean_tweets[i], flags=re.IGNORECASE)\n",
    "#         clean_tweets[i] = re.sub(r\" dms \", \" direct messages \", clean_tweets[i], flags=re.IGNORECASE)  \n",
    "#         clean_tweets[i] = re.sub(r\" demonitization \", \" demonetization \", clean_tweets[i], flags=re.IGNORECASE) \n",
    "#         clean_tweets[i] = re.sub(r\" actived \", \" active \", clean_tweets[i], flags=re.IGNORECASE)\n",
    "#         clean_tweets[i] = re.sub(r\" kms \", \" kilometers \", clean_tweets[i], flags=re.IGNORECASE)\n",
    "#         clean_tweets[i] = re.sub(r\" cs \", \" computer science \", clean_tweets[i], flags=re.IGNORECASE)\n",
    "#         clean_tweets[i] = re.sub(r\" calender \", \" calendar \", clean_tweets[i], flags=re.IGNORECASE)\n",
    "#         clean_tweets[i] = re.sub(r\" ios \", \" operating system \", clean_tweets[i], flags=re.IGNORECASE)\n",
    "#         clean_tweets[i] = re.sub(r\" programing \", \" programming \", clean_tweets[i], flags=re.IGNORECASE)\n",
    "#         clean_tweets[i] = re.sub(r\" bestfriend \", \" best friend \", clean_tweets[i], flags=re.IGNORECASE)\n",
    "#         clean_tweets[i] = re.sub(r\"bn8|god8\" ,'good night', clean_tweets[i], flags=re.IGNORECASE)\n",
    "#         clean_tweets[i] = re.sub(r\" 2moro | 2mrrw | 2morrow | 2mrw | tomrw \", \" tomorrow \", clean_tweets[i])\n",
    "#         clean_tweets[i] = re.sub(r\" b4 \", \" before \", clean_tweets[i])\n",
    "#         clean_tweets[i] = re.sub(r\" otw \", \" on the way \", clean_tweets[i])\n",
    "    \n",
    "        clean_tweets[i] = spell(clean_tweets[i])\n",
    "    \n",
    "    return TweetList\n",
    "\n"
   ]
  },
  {
   "cell_type": "code",
   "execution_count": null,
   "metadata": {},
   "outputs": [],
   "source": []
  },
  {
   "cell_type": "code",
   "execution_count": null,
   "metadata": {},
   "outputs": [],
   "source": [
    "hashs = dict()\n",
    "for data2 in df_tweets['text']:\n",
    "    words = re.findall(\"#(\\w+)\",data2)\n",
    "    for word in words:\n",
    "        if word in hashs:\n",
    "            hashs[word] += 1\n",
    "        else:\n",
    "            hashs[word] = 1\n",
    " \n",
    "df5 = pd.DataFrame(hashs.items(), columns=['hashtag', 'number of iterations']).sort_values(by ='number of iterations' , ascending=False)\n",
    "df5 = df5.reset_index(drop=True)\n",
    "df6 = df5.head(20)\n",
    "df6"
   ]
  },
  {
   "cell_type": "markdown",
   "metadata": {},
   "source": [
    "## Processing"
   ]
  },
  {
   "cell_type": "code",
   "execution_count": null,
   "metadata": {},
   "outputs": [],
   "source": [
    "\n",
    "clean_tweets = df1['text']\n",
    "tokens= []\n",
    "# preprocessR =[]\n",
    "for i in range(clean_tweets.size):\n",
    "    clean_tweets[i] = delete_unnecessary_data(clean_tweets[i])\n",
    "#     clean_tweets[i] = spell(clean_tweets[i])\n",
    "    # Normalise whitespace\n",
    "#     clean_tweets[i] = re.sub('[\\s]+', ' ', clean_tweets[i])\n",
    "#     preprocessR.extend(preprocess(clean_tweets[i]))\n",
    "    tokens.extend(tokenize_lemmatize_stemming(clean_tweets[i]))"
   ]
  },
  {
   "cell_type": "code",
   "execution_count": null,
   "metadata": {},
   "outputs": [],
   "source": [
    "clean_tweets.head(10)"
   ]
  },
  {
   "cell_type": "code",
   "execution_count": null,
   "metadata": {},
   "outputs": [],
   "source": [
    "preprocessed_text =clean_tweets.apply(tokenize_lemmatize_stemming).tolist()"
   ]
  },
  {
   "cell_type": "code",
   "execution_count": null,
   "metadata": {},
   "outputs": [],
   "source": [
    "preprocessed_text"
   ]
  },
  {
   "cell_type": "code",
   "execution_count": null,
   "metadata": {},
   "outputs": [],
   "source": [
    "dictionary = gensim.corpora.Dictionary(preprocessed_text)\n",
    "bow_corpus = [dictionary.doc2bow(doc) for doc in preprocessed_text]\n",
    "bow_corpus[10]\n"
   ]
  },
  {
   "cell_type": "code",
   "execution_count": null,
   "metadata": {},
   "outputs": [],
   "source": [
    "bow_doc_2000 = bow_corpus[10]\n",
    "\n",
    "for i in range(len(bow_doc_2000)):\n",
    "    print(\"Word {} (\\\"{}\\\") appears {} time.\".format(bow_doc_2000[i][0], \n",
    "                                                     dictionary[bow_doc_2000[i][0]], \n",
    "                                                     bow_doc_2000[i][1]))"
   ]
  },
  {
   "cell_type": "code",
   "execution_count": null,
   "metadata": {},
   "outputs": [],
   "source": []
  },
  {
   "cell_type": "code",
   "execution_count": null,
   "metadata": {},
   "outputs": [],
   "source": [
    "from gensim import corpora, models\n",
    "tfidf = models.TfidfModel(bow_corpus)\n"
   ]
  },
  {
   "cell_type": "code",
   "execution_count": null,
   "metadata": {},
   "outputs": [],
   "source": [
    "corpus_tfidf = tfidf[bow_corpus]"
   ]
  },
  {
   "cell_type": "code",
   "execution_count": null,
   "metadata": {},
   "outputs": [],
   "source": [
    "from pprint import pprint\n",
    "\n",
    "for doc in corpus_tfidf:\n",
    "    pprint(doc)\n",
    "    break"
   ]
  },
  {
   "cell_type": "markdown",
   "metadata": {},
   "source": [
    "## LDA Model"
   ]
  },
  {
   "cell_type": "code",
   "execution_count": null,
   "metadata": {},
   "outputs": [],
   "source": [
    "lda_model = gensim.models.LdaMulticore(bow_corpus, num_topics=10, id2word=dictionary, passes=2, workers=4)\n"
   ]
  },
  {
   "cell_type": "code",
   "execution_count": null,
   "metadata": {},
   "outputs": [],
   "source": [
    "for idx, topic in lda_model.print_topics(-1):\n",
    "    print('Topic: {} \\nWords: {}'.format(idx, topic))"
   ]
  },
  {
   "cell_type": "code",
   "execution_count": null,
   "metadata": {},
   "outputs": [],
   "source": [
    "for index, score in sorted(lda_model[bow_corpus[1]], key=lambda tup: -1*tup[1]):\n",
    "    print(\"\\nScore: {}\\t \\nTopic: {}\".format(score, lda_model.print_topic(index, 10)))"
   ]
  },
  {
   "cell_type": "code",
   "execution_count": null,
   "metadata": {},
   "outputs": [],
   "source": [
    "import matplotlib.pyplot as plt\n",
    "import matplotlib.image as mpimg \n",
    "import seaborn as sns\n",
    "\n",
    "fig = plt.figure(figsize = (20,30))\n",
    "    \n",
    "for i in range(10):\n",
    "    df = pd.DataFrame(lda_model.show_topic(i,12), columns=['term','prob']).set_index('term')\n",
    "    plt.subplot(5,2,i+1)\n",
    "    plt.title('topic'+str(i+1))\n",
    "    sns.barplot(x='prob', y=df.index, data=df , label = 'Cities', palette='Reds_d')\n",
    "    plt.xlabel('probability')\n",
    "plt.show()"
   ]
  },
  {
   "cell_type": "code",
   "execution_count": null,
   "metadata": {},
   "outputs": [],
   "source": []
  },
  {
   "cell_type": "code",
   "execution_count": null,
   "metadata": {},
   "outputs": [],
   "source": []
  },
  {
   "cell_type": "code",
   "execution_count": null,
   "metadata": {},
   "outputs": [],
   "source": [
    "#SENTIMENT ANALYSIS\n",
    "pos,neg,neu = 0,0,0\n",
    "df_sentiment = pd.DataFrame(columns=[\"Tweet\",\"Sentiment\"])\n",
    "\n",
    "for tweet in clean_tweets:\n",
    "    tweet_analysis = TextBlob(tweet)\n",
    "    if tweet_analysis.polarity > 0:\n",
    "        df_sentiment = df_sentiment.append({\"Tweet\" : tweet , \"Sentiment\" : \"Positif\"}, ignore_index=True)\n",
    "        pos += 1\n",
    "    elif tweet_analysis.polarity == 0:\n",
    "        df_sentiment = df_sentiment.append({\"Tweet\" : tweet , \"Sentiment\" : \"Neutral\"}, ignore_index=True)\n",
    "        neu+= 1\n",
    "    else:\n",
    "        df_sentiment = df_sentiment.append({\"Tweet\" : tweet , \"Sentiment\" : \"Negatif\"}, ignore_index=True)\n",
    "        neg += 1"
   ]
  },
  {
   "cell_type": "code",
   "execution_count": null,
   "metadata": {},
   "outputs": [],
   "source": [
    "test = 'كراهية'\n",
    "tweet_analysis = TextBlob(test)\n",
    "tweet_analysis.polarity"
   ]
  },
  {
   "cell_type": "code",
   "execution_count": null,
   "metadata": {},
   "outputs": [],
   "source": [
    "labels = 'Positive tweets', 'Negative tweets', 'Neutral tweets'\n",
    "val = [ pos , neg , neu]\n",
    "explode = (0.1, 0.1, 0) \n",
    "\n",
    "fig1, ax1 = plt.subplots()\n",
    "ax1.pie(val, explode=explode, labels=labels, autopct='%1.1f%%',\n",
    "        shadow=True, startangle=90)\n",
    "ax1.axis('equal') \n",
    "plt.title(\"Sentiment analysis\")\n",
    "plt.show()"
   ]
  },
  {
   "cell_type": "code",
   "execution_count": null,
   "metadata": {},
   "outputs": [],
   "source": [
    "#BAR PLOT OF THE MOST 10 MOST USED HASHTAGS\n",
    "df6.plot(kind='bar',x=\"hashtag\" ,y=\"number of iterations\", rot=30 , title=\"the most used hashtags\")"
   ]
  },
  {
   "cell_type": "code",
   "execution_count": null,
   "metadata": {},
   "outputs": [],
   "source": [
    "#MOST USED WORDS\n",
    "most_used_words = dict()\n",
    "for data2 in clean_tweets:\n",
    "    words = data2.lower().split()\n",
    "    for word in words:\n",
    "        if word in most_used_words and word not in stop_words :\n",
    "            most_used_words[word] += 1\n",
    "        else:\n",
    "            most_used_words[word] = 1\n",
    "            \n",
    "df2 = pd.DataFrame(most_used_words.items(), columns=['word', 'value']).sort_values(by ='value' , ascending=False)\n",
    "df2 = df2.reset_index(drop=True)\n",
    "df22 = df2.head(10)\n",
    "df22"
   ]
  },
  {
   "cell_type": "code",
   "execution_count": null,
   "metadata": {},
   "outputs": [],
   "source": [
    "#WORD CLOUD\n",
    "mask = np.array(Image.open(r\"C:\\Users\\reda_\\OneDrive - Université Cadi Ayyad Marrakech\\Student\\MSID\\S3_2021\\Text Minning\\Tweet\\twitter.png\"))\n",
    "\n",
    "comment_words = ''\n",
    "for i in df2['word']:\n",
    "    comment_words += \" \"+i+\" \"\n",
    "    \n",
    "wc = WordCloud(font_path='arial', background_color='white', mask = mask,contour_width=3, \n",
    "               contour_color='blue',\n",
    "                  mode='RGB', width=3000, height=1500 ,max_words=30).generate(comment_words)\n",
    "\n",
    "plt.title(\"the most used words\")\n",
    "plt.imshow(wc)\n",
    "plt.axis(\"off\")\n",
    "plt.show"
   ]
  },
  {
   "cell_type": "code",
   "execution_count": null,
   "metadata": {},
   "outputs": [],
   "source": []
  },
  {
   "cell_type": "code",
   "execution_count": null,
   "metadata": {},
   "outputs": [],
   "source": []
  },
  {
   "cell_type": "code",
   "execution_count": null,
   "metadata": {},
   "outputs": [],
   "source": []
  },
  {
   "cell_type": "code",
   "execution_count": null,
   "metadata": {},
   "outputs": [],
   "source": [
    "# Create a function to detect the language used to write the text of tweet (Standard Arab, French or English). ##\"\"\"\n",
    "from googletrans import Translator\n",
    "translator = Translator()\n",
    "from langdetect import detect\n",
    "from textblob import TextBlob\n",
    "from tqdm import tqdm\n"
   ]
  },
  {
   "cell_type": "code",
   "execution_count": null,
   "metadata": {},
   "outputs": [],
   "source": [
    "def language_detction(tweet):\n",
    "    try:\n",
    "        lang = translator.detect(tweet).lang\n",
    "    except:\n",
    "        try:\n",
    "            lang = detect(tweet)\n",
    "        except:\n",
    "            try:\n",
    "                lang = str(TextBlob(tweet).detect_language())\n",
    "            except:\n",
    "                lang = 'unknown'\n",
    "    \n",
    "    if lang in ['ar', 'arfa', 'fa', 'faar'] :\n",
    "        tweet = correct_ar(tweet)\n",
    "    elif lang == 'fr':\n",
    "        tweet = correct_fr(tweet)\n",
    "    elif lang == 'en':\n",
    "        tweet = correct_en(tweet)\n",
    "    else:\n",
    "        tweet = translator.translate(tweet,src='auto',dest='en' ).text\n",
    "        tweet = correct_en(tweet)\n",
    "    return tweet"
   ]
  },
  {
   "cell_type": "code",
   "execution_count": null,
   "metadata": {},
   "outputs": [],
   "source": [
    "def correct_fr(text):\n",
    "    text = TextBlob(text).correct()\n",
    "    return str(text)\n"
   ]
  },
  {
   "cell_type": "code",
   "execution_count": null,
   "metadata": {},
   "outputs": [],
   "source": [
    "def preprocess(tweet):\n",
    "  try:\n",
    "    tweet = delete_unnecessary_data(tweet)\n",
    "    tweet = normalize_whitespace(tweet)\n",
    "    tweet = split_hashtage(tweet)\n",
    "    tweet = reamove_punctuation(tweet)\n",
    "    tweet = language_detction(tweet)\n",
    "    tokens = tokenize_lemmatize_stemming(tweet)\n",
    "\n",
    "    with open(home+\"clean_data.txt\", \"a\", encoding=\"utf-8\") as f:\n",
    "      f.writelines(','.join(tokens)+'\\n')\n",
    "  except:\n",
    "    tokens = []\n",
    "\n",
    "  return tokens"
   ]
  },
  {
   "cell_type": "code",
   "execution_count": null,
   "metadata": {},
   "outputs": [],
   "source": [
    "# columns = ['user','date','text']\n",
    "tweets_df  = pd.read_csv('data.csv')\n",
    "\n",
    "\n",
    "tweets_df.astype({'date time': str, 'text': str, 'name': str})\n",
    "tweets_df = tweets_df.drop_duplicates()\n",
    "tweets_df.reset_index(drop = True, inplace=True)\n",
    "print('[START tw]')\n",
    "import sys\n",
    "for text in tqdm(tweets_df['text'][2100+41419+52606:], desc='TW', file=sys.stdout): \n",
    "    preprocess(text)"
   ]
  },
  {
   "cell_type": "code",
   "execution_count": null,
   "metadata": {},
   "outputs": [],
   "source": [
    "tweets_df.head(10)"
   ]
  },
  {
   "cell_type": "code",
   "execution_count": null,
   "metadata": {},
   "outputs": [],
   "source": []
  }
 ],
 "metadata": {
  "kernelspec": {
   "display_name": "Python 3",
   "language": "python",
   "name": "python3"
  },
  "language_info": {
   "codemirror_mode": {
    "name": "ipython",
    "version": 3
   },
   "file_extension": ".py",
   "mimetype": "text/x-python",
   "name": "python",
   "nbconvert_exporter": "python",
   "pygments_lexer": "ipython3",
   "version": "3.7.7"
  }
 },
 "nbformat": 4,
 "nbformat_minor": 4
}
